{
 "cells": [
  {
   "cell_type": "code",
   "execution_count": 1,
   "metadata": {
    "collapsed": false
   },
   "outputs": [
    {
     "data": {
      "text/plain": [
       "244"
      ]
     },
     "execution_count": 1,
     "metadata": {},
     "output_type": "execute_result"
    }
   ],
   "source": [
    "import pandas as pd\n",
    "import numpy as np\n",
    "\n",
    "df = pd.read_csv('fermelabo_data2.csv', sep=\",\",header=None)\n",
    "df.columns = [\"origin\"]\n",
    "df['time'] = 0\n",
    "df['title'] = 0\n",
    "df['count'] = 0\n",
    "df['date'] = 0\n",
    "\n",
    "#df.drop[]\n",
    "shock = df.query('origin.str.contains(\"衝撃\")', engine='python')\n",
    "kaisuu = df.query('origin.str.contains(\"視聴\")', engine='python')\n",
    "\n",
    "len(kaisuu) - len(shock)\n",
    "len(shock)\n"
   ]
  },
  {
   "cell_type": "code",
   "execution_count": 12,
   "metadata": {
    "collapsed": false
   },
   "outputs": [
    {
     "data": {
      "text/html": [
       "<div>\n",
       "<table border=\"1\" class=\"dataframe\">\n",
       "  <thead>\n",
       "    <tr style=\"text-align: right;\">\n",
       "      <th></th>\n",
       "      <th>time</th>\n",
       "      <th>title</th>\n",
       "      <th>count</th>\n",
       "      <th>date</th>\n",
       "    </tr>\n",
       "  </thead>\n",
       "  <tbody>\n",
       "    <tr>\n",
       "      <th>0</th>\n",
       "      <td>4:18</td>\n",
       "      <td>【衝撃】女子と男子の「かわいい」の違い５選</td>\n",
       "      <td>視聴回数 1.9万 回</td>\n",
       "      <td>6 時間前</td>\n",
       "    </tr>\n",
       "    <tr>\n",
       "      <th>1</th>\n",
       "      <td>4:08</td>\n",
       "      <td>【衝撃】恐竜について誤解している事実５選</td>\n",
       "      <td>視聴回数 2.8万 回</td>\n",
       "      <td>20 時間前</td>\n",
       "    </tr>\n",
       "    <tr>\n",
       "      <th>2</th>\n",
       "      <td>4:00</td>\n",
       "      <td>【衝撃】男性が心の中で可愛いと思っている５つの瞬間</td>\n",
       "      <td>視聴回数 12万 回</td>\n",
       "      <td>1 日前</td>\n",
       "    </tr>\n",
       "    <tr>\n",
       "      <th>3</th>\n",
       "      <td>4:39</td>\n",
       "      <td>【衝撃】あなたの知らないUndertaleの真実５選/アンダーテール</td>\n",
       "      <td>視聴回数 4.6万 回</td>\n",
       "      <td>1 日前</td>\n",
       "    </tr>\n",
       "    <tr>\n",
       "      <th>4</th>\n",
       "      <td>3:42</td>\n",
       "      <td>【衝撃】今までに捕獲された最大のホホジロザメ５選</td>\n",
       "      <td>視聴回数 2.4万 回</td>\n",
       "      <td>1 日前</td>\n",
       "    </tr>\n",
       "  </tbody>\n",
       "</table>\n",
       "</div>"
      ],
      "text/plain": [
       "   time                               title        count    date\n",
       "0  4:18               【衝撃】女子と男子の「かわいい」の違い５選  視聴回数 1.9万 回   6 時間前\n",
       "1  4:08                【衝撃】恐竜について誤解している事実５選  視聴回数 2.8万 回  20 時間前\n",
       "2  4:00           【衝撃】男性が心の中で可愛いと思っている５つの瞬間   視聴回数 12万 回    1 日前\n",
       "3  4:39  【衝撃】あなたの知らないUndertaleの真実５選/アンダーテール  視聴回数 4.6万 回    1 日前\n",
       "4  3:42            【衝撃】今までに捕獲された最大のホホジロザメ５選  視聴回数 2.4万 回    1 日前"
      ]
     },
     "execution_count": 12,
     "metadata": {},
     "output_type": "execute_result"
    }
   ],
   "source": [
    "newdf = df[df.origin != \"字幕\"]\n",
    "\n",
    "# 入れ替え\n",
    "df['time'] = newdf[::4]\n",
    "df['title'] = newdf[1::4]\n",
    "df['count'] = newdf[2::4]\n",
    "df['date'] = newdf[3::4]\n",
    "\n",
    "#時間抽出\n",
    "dtime = newdf[::4]\n",
    "dtime = dtime.reset_index()\n",
    "dtime = dtime.drop(['index','origin','title','count','date'], axis=1)\n",
    "\n",
    "#タイトル抽出\n",
    "dtitle = newdf[1::4]\n",
    "dtitle = dtitle.reset_index()\n",
    "dtitle = dtitle.drop(['index','origin','time','count','date'], axis=1)\n",
    "\n",
    "#視聴回数抽出\n",
    "dcount = newdf[2::4]\n",
    "dcount = dcount.reset_index()\n",
    "dcount = dcount.drop(['index','origin','time','title','date'], axis=1)\n",
    "\n",
    "#アップロード日\n",
    "ddate = newdf[3::4]\n",
    "ddate = ddate.reset_index()\n",
    "ddate = ddate.drop(['index','origin','time','count','title'], axis=1)\n",
    "\n",
    "pd1 = dtime.join(dtitle)\n",
    "pd2 = dcount.join(ddate)\n",
    "df = pd1.join(pd2)\n",
    "\n",
    "len(df)\n",
    "df.head()\n",
    "\n",
    "#title.head(5)\n",
    "#df.head(5)"
   ]
  },
  {
   "cell_type": "code",
   "execution_count": 14,
   "metadata": {
    "collapsed": false
   },
   "outputs": [
    {
     "ename": "AttributeError",
     "evalue": "'DataFrame' object has no attribute 'concat'",
     "output_type": "error",
     "traceback": [
      "\u001b[0;31m---------------------------------------------------------------------------\u001b[0m",
      "\u001b[0;31mAttributeError\u001b[0m                            Traceback (most recent call last)",
      "\u001b[0;32m<ipython-input-14-07019ceae59f>\u001b[0m in \u001b[0;36m<module>\u001b[0;34m()\u001b[0m\n\u001b[1;32m     19\u001b[0m \u001b[0mnewCount\u001b[0m\u001b[0;34m.\u001b[0m\u001b[0mhead\u001b[0m\u001b[0;34m(\u001b[0m\u001b[0;34m)\u001b[0m\u001b[0;34m\u001b[0m\u001b[0m\n\u001b[1;32m     20\u001b[0m \u001b[0;34m\u001b[0m\u001b[0m\n\u001b[0;32m---> 21\u001b[0;31m \u001b[0mpd\u001b[0m\u001b[0;34m.\u001b[0m\u001b[0mconcat\u001b[0m\u001b[0;34m(\u001b[0m\u001b[0;34m[\u001b[0m\u001b[0mdf\u001b[0m\u001b[0;34m,\u001b[0m\u001b[0mnewCount\u001b[0m\u001b[0;34m]\u001b[0m\u001b[0;34m,\u001b[0m \u001b[0maxis\u001b[0m\u001b[0;34m=\u001b[0m\u001b[0;36m1\u001b[0m\u001b[0;34m)\u001b[0m\u001b[0;34m\u001b[0m\u001b[0m\n\u001b[0m",
      "\u001b[0;32m/Users/nakamurakeisuke/.pyenv/versions/anaconda3-4.2.0/lib/python3.5/site-packages/pandas/core/generic.py\u001b[0m in \u001b[0;36m__getattr__\u001b[0;34m(self, name)\u001b[0m\n\u001b[1;32m   2670\u001b[0m             \u001b[0;32mif\u001b[0m \u001b[0mname\u001b[0m \u001b[0;32min\u001b[0m \u001b[0mself\u001b[0m\u001b[0;34m.\u001b[0m\u001b[0m_info_axis\u001b[0m\u001b[0;34m:\u001b[0m\u001b[0;34m\u001b[0m\u001b[0m\n\u001b[1;32m   2671\u001b[0m                 \u001b[0;32mreturn\u001b[0m \u001b[0mself\u001b[0m\u001b[0;34m[\u001b[0m\u001b[0mname\u001b[0m\u001b[0;34m]\u001b[0m\u001b[0;34m\u001b[0m\u001b[0m\n\u001b[0;32m-> 2672\u001b[0;31m             \u001b[0;32mreturn\u001b[0m \u001b[0mobject\u001b[0m\u001b[0;34m.\u001b[0m\u001b[0m__getattribute__\u001b[0m\u001b[0;34m(\u001b[0m\u001b[0mself\u001b[0m\u001b[0;34m,\u001b[0m \u001b[0mname\u001b[0m\u001b[0;34m)\u001b[0m\u001b[0;34m\u001b[0m\u001b[0m\n\u001b[0m\u001b[1;32m   2673\u001b[0m \u001b[0;34m\u001b[0m\u001b[0m\n\u001b[1;32m   2674\u001b[0m     \u001b[0;32mdef\u001b[0m \u001b[0m__setattr__\u001b[0m\u001b[0;34m(\u001b[0m\u001b[0mself\u001b[0m\u001b[0;34m,\u001b[0m \u001b[0mname\u001b[0m\u001b[0;34m,\u001b[0m \u001b[0mvalue\u001b[0m\u001b[0;34m)\u001b[0m\u001b[0;34m:\u001b[0m\u001b[0;34m\u001b[0m\u001b[0m\n",
      "\u001b[0;31mAttributeError\u001b[0m: 'DataFrame' object has no attribute 'concat'"
     ]
    }
   ],
   "source": [
    "newCount = df[\"count\"].str.replace(\"視聴回数\",\"\")\n",
    "newCount = newCount.str.replace(\"回\",\"\")\n",
    "#\n",
    "\n",
    "boolCount = newCount.str.contains(\"万\")\n",
    "tCount = pd.T[2:3]\n",
    "newCount = newCount.str.replace(\"万\",\"\")\n",
    "\n",
    "#dcount = dcount.query('count.str.contains(\"視聴回数\")', engine='python')\n",
    "#newCount.str.contains(\"万\")\n",
    "\n",
    "for i in range(len(boolCount)):\n",
    "#    if boolCount[i] == True:\n",
    "#        newCount[i] = newCount.str.replace(\"万\",\"\")\n",
    "    newCount[i] = float(newCount[i])*10000\n",
    "#    else:\n",
    "#        newCount[i] = float(newCount[i])\n",
    "\n",
    "newCount.head()"
   ]
  },
  {
   "cell_type": "code",
   "execution_count": null,
   "metadata": {
    "collapsed": true
   },
   "outputs": [],
   "source": []
  },
  {
   "cell_type": "code",
   "execution_count": null,
   "metadata": {
    "collapsed": true
   },
   "outputs": [],
   "source": []
  }
 ],
 "metadata": {
  "anaconda-cloud": {},
  "kernelspec": {
   "display_name": "Python [default]",
   "language": "python",
   "name": "python3"
  },
  "language_info": {
   "codemirror_mode": {
    "name": "ipython",
    "version": 3
   },
   "file_extension": ".py",
   "mimetype": "text/x-python",
   "name": "python",
   "nbconvert_exporter": "python",
   "pygments_lexer": "ipython3",
   "version": "3.5.2"
  }
 },
 "nbformat": 4,
 "nbformat_minor": 1
}
