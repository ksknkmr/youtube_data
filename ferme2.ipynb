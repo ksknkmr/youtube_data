{
 "cells": [
  {
   "cell_type": "code",
   "execution_count": 2,
   "metadata": {
    "collapsed": false
   },
   "outputs": [
    {
     "data": {
      "text/plain": [
       "244"
      ]
     },
     "execution_count": 2,
     "metadata": {},
     "output_type": "execute_result"
    }
   ],
   "source": [
    "import pandas as pd\n",
    "import numpy as np\n",
    "\n",
    "df = pd.read_csv('fermelabo_data2.csv', sep=\",\",header=None)\n",
    "df.columns = [\"origin\"]\n",
    "df['time'] = 0\n",
    "df['title'] = 0\n",
    "df['count'] = 0\n",
    "df['date'] = 0\n",
    "\n",
    "#df.drop[]\n",
    "shock = df.query('origin.str.contains(\"衝撃\")', engine='python')\n",
    "kaisuu = df.query('origin.str.contains(\"視聴\")', engine='python')\n",
    "\n",
    "len(kaisuu) - len(shock)\n",
    "len(shock)\n"
   ]
  },
  {
   "cell_type": "code",
   "execution_count": 4,
   "metadata": {
    "collapsed": false
   },
   "outputs": [
    {
     "data": {
      "text/html": [
       "<div>\n",
       "<table border=\"1\" class=\"dataframe\">\n",
       "  <thead>\n",
       "    <tr style=\"text-align: right;\">\n",
       "      <th></th>\n",
       "      <th>time</th>\n",
       "      <th>title</th>\n",
       "      <th>count</th>\n",
       "      <th>date</th>\n",
       "    </tr>\n",
       "  </thead>\n",
       "  <tbody>\n",
       "    <tr>\n",
       "      <th>0</th>\n",
       "      <td>4:18</td>\n",
       "      <td>【衝撃】女子と男子の「かわいい」の違い５選</td>\n",
       "      <td>視聴回数 1.9万 回</td>\n",
       "      <td>6 時間前</td>\n",
       "    </tr>\n",
       "    <tr>\n",
       "      <th>1</th>\n",
       "      <td>4:08</td>\n",
       "      <td>【衝撃】恐竜について誤解している事実５選</td>\n",
       "      <td>視聴回数 2.8万 回</td>\n",
       "      <td>20 時間前</td>\n",
       "    </tr>\n",
       "    <tr>\n",
       "      <th>2</th>\n",
       "      <td>4:00</td>\n",
       "      <td>【衝撃】男性が心の中で可愛いと思っている５つの瞬間</td>\n",
       "      <td>視聴回数 12万 回</td>\n",
       "      <td>1 日前</td>\n",
       "    </tr>\n",
       "    <tr>\n",
       "      <th>3</th>\n",
       "      <td>4:39</td>\n",
       "      <td>【衝撃】あなたの知らないUndertaleの真実５選/アンダーテール</td>\n",
       "      <td>視聴回数 4.6万 回</td>\n",
       "      <td>1 日前</td>\n",
       "    </tr>\n",
       "    <tr>\n",
       "      <th>4</th>\n",
       "      <td>3:42</td>\n",
       "      <td>【衝撃】今までに捕獲された最大のホホジロザメ５選</td>\n",
       "      <td>視聴回数 2.4万 回</td>\n",
       "      <td>1 日前</td>\n",
       "    </tr>\n",
       "  </tbody>\n",
       "</table>\n",
       "</div>"
      ],
      "text/plain": [
       "   time                               title        count    date\n",
       "0  4:18               【衝撃】女子と男子の「かわいい」の違い５選  視聴回数 1.9万 回   6 時間前\n",
       "1  4:08                【衝撃】恐竜について誤解している事実５選  視聴回数 2.8万 回  20 時間前\n",
       "2  4:00           【衝撃】男性が心の中で可愛いと思っている５つの瞬間   視聴回数 12万 回    1 日前\n",
       "3  4:39  【衝撃】あなたの知らないUndertaleの真実５選/アンダーテール  視聴回数 4.6万 回    1 日前\n",
       "4  3:42            【衝撃】今までに捕獲された最大のホホジロザメ５選  視聴回数 2.4万 回    1 日前"
      ]
     },
     "execution_count": 4,
     "metadata": {},
     "output_type": "execute_result"
    }
   ],
   "source": [
    "newdf = df[df.origin != \"字幕\"]\n",
    "\n",
    "# 入れ替え\n",
    "df['time'] = newdf[::4]\n",
    "df['title'] = newdf[1::4]\n",
    "df['count'] = newdf[2::4]\n",
    "df['date'] = newdf[3::4]\n",
    "\n",
    "#時間抽出\n",
    "dtime = newdf[::4]\n",
    "dtime = dtime.reset_index()\n",
    "dtime = dtime.drop(['index','origin','title','count','date'], axis=1)\n",
    "\n",
    "#タイトル抽出\n",
    "dtitle = newdf[1::4]\n",
    "dtitle = dtitle.reset_index()\n",
    "dtitle = dtitle.drop(['index','origin','time','count','date'], axis=1)\n",
    "\n",
    "#視聴回数抽出\n",
    "dcount = newdf[2::4]\n",
    "dcount = dcount.reset_index()\n",
    "dcount = dcount.drop(['index','origin','time','title','date'], axis=1)\n",
    "\n",
    "#アップロード日\n",
    "ddate = newdf[3::4]\n",
    "ddate = ddate.reset_index()\n",
    "ddate = ddate.drop(['index','origin','time','count','title'], axis=1)\n",
    "\n",
    "pd1 = dtime.join(dtitle)\n",
    "pd2 = dcount.join(ddate)\n",
    "pd = pd1.join(pd2)\n",
    "\n",
    "len(pd)\n",
    "pd.head()\n",
    "\n",
    "#title.head(5)\n",
    "#df.head(5)"
   ]
  },
  {
   "cell_type": "code",
   "execution_count": 12,
   "metadata": {
    "collapsed": false
   },
   "outputs": [
    {
     "data": {
      "text/plain": [
       "0         19000\n",
       "1         28000\n",
       "2        120000\n",
       "3         46000\n",
       "4         24000\n",
       "5         76000\n",
       "6         67000\n",
       "7         47000\n",
       "8         98000\n",
       "9        120000\n",
       "10       200000\n",
       "11       110000\n",
       "12       190000\n",
       "13       240000\n",
       "14        84000\n",
       "15       240000\n",
       "16        42000\n",
       "17       110000\n",
       "18        21000\n",
       "19        97000\n",
       "20        58000\n",
       "21       110000\n",
       "22       250000\n",
       "23       120000\n",
       "24       120000\n",
       "25       310000\n",
       "26       350000\n",
       "27       340000\n",
       "28     2.34e+06\n",
       "29        38000\n",
       "         ...   \n",
       "228      280000\n",
       "229       56000\n",
       "230    1.02e+06\n",
       "231       80000\n",
       "232       80000\n",
       "233      320000\n",
       "234      100000\n",
       "235       23000\n",
       "236      300000\n",
       "237       84000\n",
       "238     1.1e+06\n",
       "239      890000\n",
       "240    1.32e+06\n",
       "241       90000\n",
       "242      190000\n",
       "243       40000\n",
       "244    1.36e+06\n",
       "245      100000\n",
       "246       77000\n",
       "247      630000\n",
       "248      120000\n",
       "249      220000\n",
       "250      130000\n",
       "251    1.04e+06\n",
       "252       58000\n",
       "253      130000\n",
       "254      170000\n",
       "255       71000\n",
       "256      130000\n",
       "257      370000\n",
       "Name: count, dtype: object"
      ]
     },
     "execution_count": 12,
     "metadata": {},
     "output_type": "execute_result"
    }
   ],
   "source": [
    "newCount = pd[\"count\"].str.replace(\"視聴回数\",\"\")\n",
    "newCount = newCount.str.replace(\"回\",\"\")\n",
    "#\n",
    "\n",
    "boolCount = newCount.str.contains(\"万\")\n",
    "tCount = pd.T[2:3]\n",
    "newCount = newCount.str.replace(\"万\",\"\")\n",
    "\n",
    "#dcount = dcount.query('count.str.contains(\"視聴回数\")', engine='python')\n",
    "#newCount.str.contains(\"万\")\n",
    "\n",
    "for i in range(len(boolCount)):\n",
    "#    if boolCount[i] == True:\n",
    "#        newCount[i] = newCount.str.replace(\"万\",\"\")\n",
    "    newCount[i] = float(newCount[i])*10000\n",
    "#    else:\n",
    "#        newCount[i] = float(newCount[i])\n",
    "\n",
    "newCount"
   ]
  },
  {
   "cell_type": "code",
   "execution_count": null,
   "metadata": {
    "collapsed": true
   },
   "outputs": [],
   "source": []
  },
  {
   "cell_type": "code",
   "execution_count": null,
   "metadata": {
    "collapsed": true
   },
   "outputs": [],
   "source": []
  }
 ],
 "metadata": {
  "anaconda-cloud": {},
  "kernelspec": {
   "display_name": "Python [default]",
   "language": "python",
   "name": "python3"
  },
  "language_info": {
   "codemirror_mode": {
    "name": "ipython",
    "version": 3
   },
   "file_extension": ".py",
   "mimetype": "text/x-python",
   "name": "python",
   "nbconvert_exporter": "python",
   "pygments_lexer": "ipython3",
   "version": "3.5.2"
  }
 },
 "nbformat": 4,
 "nbformat_minor": 1
}
